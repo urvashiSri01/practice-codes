{
 "cells": [
  {
   "cell_type": "code",
   "execution_count": 17,
   "id": "15421a4b",
   "metadata": {},
   "outputs": [],
   "source": [
    "import re\n",
    "def chk_palindrome(text):\n",
    "    forwards= ''.join(re.findall(r'[a-z]+',text.lower()))\n",
    "    backwards= forwards[::-1]\n",
    "    return forwards== backwards\n",
    "     \n",
    "\n",
    "\n",
    "    "
   ]
  },
  {
   "cell_type": "code",
   "execution_count": 18,
   "id": "3dae1909",
   "metadata": {},
   "outputs": [
    {
     "data": {
      "text/plain": [
       "True"
      ]
     },
     "execution_count": 18,
     "metadata": {},
     "output_type": "execute_result"
    }
   ],
   "source": [
    "chk_palindrome('Abccba')"
   ]
  },
  {
   "cell_type": "code",
   "execution_count": null,
   "id": "c8074629",
   "metadata": {},
   "outputs": [],
   "source": []
  },
  {
   "cell_type": "code",
   "execution_count": null,
   "id": "7bec579f",
   "metadata": {},
   "outputs": [],
   "source": []
  }
 ],
 "metadata": {
  "kernelspec": {
   "display_name": "Python 3",
   "language": "python",
   "name": "python3"
  },
  "language_info": {
   "codemirror_mode": {
    "name": "ipython",
    "version": 3
   },
   "file_extension": ".py",
   "mimetype": "text/x-python",
   "name": "python",
   "nbconvert_exporter": "python",
   "pygments_lexer": "ipython3",
   "version": "3.8.8"
  }
 },
 "nbformat": 4,
 "nbformat_minor": 5
}
